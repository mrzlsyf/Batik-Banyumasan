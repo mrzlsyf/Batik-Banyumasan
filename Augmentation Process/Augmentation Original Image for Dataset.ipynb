{
 "cells": [
  {
   "cell_type": "code",
   "execution_count": null,
   "id": "01d1d728",
   "metadata": {
    "id": "01d1d728"
   },
   "outputs": [],
   "source": [
    "import os \n",
    "import cv2 \n",
    "import numpy as np \n",
    "\n",
    "from albumentations import (Compose, Resize, ChannelShuffle, ElasticTransform, Flip, FDA, RandomGridShuffle,\n",
    "                            RandomRotate90, Sharpen, Transpose) "
   ]
  },
  {
   "cell_type": "code",
   "execution_count": null,
   "id": "cf688eb4",
   "metadata": {
    "id": "cf688eb4"
   },
   "outputs": [],
   "source": [
    "def augment_and_save(input_folder, output_folder, num_augmentations_per_image):\n",
    "    augmentation = Compose([\n",
    "        ChannelShuffle(always_apply=True, p=1.0)\n",
    "        ElasticTransform(alpha=1, sigma=50, alpha_affine=50, interpolation=1, border_mode=4, always_apply=True, p=1.0)\n",
    "        Flip(always_apply=True, p=1.0)\n",
    "        FDA(reference_images=[\"reference_image_FDA.jpg\"], beta_limit=0.001, always_apply=True, p=1.0)\n",
    "        RandomGridShuffle(grid=(1,2), always_apply=True, p=1.0)\n",
    "        RandomRotate90(always_apply=True, p=1.0)\n",
    "        Sharpen(alpha=(0.2,0.5), lightness=(0.5,1.0), always_apply=True, p=1.0)\n",
    "        Transpose(always_apply=True, p=1.0)\n",
    "    ])\n",
    "\n",
    "    if not os.path.exists(output_folder):\n",
    "        os.makedirs(output_folder)\n",
    "\n",
    "    for root, dirs, files in os.walk(input_folder):\n",
    "        for file in files:\n",
    "            if file.lower().endswith(('.jpg','.jpeg')):\n",
    "                image_path = os.path.join(root, file)\n",
    "                image = cv2.imread(image_path)\n",
    "                for i in range(num_augmentations_per_image):\n",
    "                    augmented = augmentation(image=image)\n",
    "                    augmented_image = augmented['image']\n",
    "                    output_path = os.path.join(output_folder, f\"{file.split('.')[0]}.{file.split('.')[-1]}\")\n",
    "                    cv2.imwrite(output_path, augmented_image)"
   ]
  },
  {
   "cell_type": "code",
   "execution_count": null,
   "id": "04c99a7c",
   "metadata": {
    "id": "04c99a7c"
   },
   "outputs": [],
   "source": [
    "augment_and_save('Batik Banyumasan Original/Angguran', 'Batik Banyumasan/Angguran', 1)\n",
    "augment_and_save('Batik Banyumasan Original/Ayam Puger', 'Batik Banyumasan/Ayam Puger', 1)\n",
    "augment_and_save('Batik Banyumasan Original/Jahe Lumbon', 'Batik Banyumasan/Jahe Lumbon', 1)\n",
    "augment_and_save('Batik Banyumasan Original/Jahe Puger', 'Batik Banyumasan/Jahe Puger', 1)\n",
    "augment_and_save('Batik Banyumasan Original/Jahe Srimpang', 'Batik Banyumasan/Jahe Srimpang', 1)\n",
    "augment_and_save('Batik Banyumasan Original/Lumbon', 'Batik Banyumasan/Lumbon', 1)\n",
    "augment_and_save('Batik Banyumasan Original/Madu Bronto', 'Batik Banyumasan/Madu Bronto', 1)\n",
    "augment_and_save('Batik Banyumasan Original/Pring Sedapur', 'Batik Banyumasan/Pring Sedapur', 1)\n",
    "augment_and_save('Batik Banyumasan Original/Puger Galar', 'Batik Banyumasan/Puger Galar', 1)\n",
    "augment_and_save('Batik Banyumasan Original/Puger Telu Bal', 'Batik Banyumasan/Puger Telu Bal', 1)\n",
    "augment_and_save('Batik Banyumasan Original/Wit Lumbon', 'Batik Banyumasan/Wit Lumbon', 1)"
   ]
  }
 ],
 "metadata": {
  "colab": {
   "provenance": []
  },
  "kernelspec": {
   "display_name": "Python [conda env:base] *",
   "language": "python",
   "name": "conda-base-py"
  },
  "language_info": {
   "codemirror_mode": {
    "name": "ipython",
    "version": 3
   },
   "file_extension": ".py",
   "mimetype": "text/x-python",
   "name": "python",
   "nbconvert_exporter": "python",
   "pygments_lexer": "ipython3",
   "version": "3.12.7"
  }
 },
 "nbformat": 4,
 "nbformat_minor": 5
}
